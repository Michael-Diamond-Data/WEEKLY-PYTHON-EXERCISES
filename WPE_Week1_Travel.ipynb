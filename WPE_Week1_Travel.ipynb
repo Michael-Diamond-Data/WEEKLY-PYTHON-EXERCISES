{
 "cells": [
  {
   "cell_type": "markdown",
   "metadata": {},
   "source": [
    "Hi, and welcome to the first installment of Weekly Python Exercise!  I'm excited to start this new cohort and hope that you are, too!\n",
    "\n",
    "This week, we'll explore the built-in data types, seeing how we can store information in them, and then extract information from them, without having to create a new class.\n",
    "\n",
    "The idea is that we want to organize a list of places to which someone has traveled. That is: We'll ask the user to enter, one at a time, a city and country to which they have traveled. The city and country should be separated by a comma. If there is no comma, then the user is given an error message, and given another chance. If the user enters a city-country combination, then this information is recorded, and then they're asked again.  Indeed, the user is asked again and again for a city-state combination, until they provide an empty response. When that happens, the questioning phase ends, and the reporting phase begins.\n",
    "\n",
    "In the report, we'll want to see a list of all of the places visited, organized by country. That is, we'll get a list of the visited countries, presented in alphabetical order, and for each country, we'll see a list of visited cities, also in alphabetical order.  If the city was visited more than once, then we'll see a number next to its name.\n",
    "\n",
    "For example, this is how the interaction could look:\n",
    "    Tell mewhere you went: New York, USA\n",
    "    Tell me where you went: London, England\n",
    "    Tell me where you went: Shanghai, China\n",
    "    Tell me where you went: Chicago, USA\n",
    "    Tell me where you went: Beijing, China\n",
    "    Tell me where you went: Chicago, USA\n",
    "    Tell me where you went: Beijing, China\n",
    "    Tell me where you went: lalala\n",
    "    That's not a legal city, state combination\n",
    "    Tell me where you went: Boston, USA\n",
    "    Tell me where you went: <user presses \"enter\" here>\n",
    "\n",
    "    You visited:\n",
    "    China\n",
    "        Beijing (2)\n",
    "        Shanghai\n",
    "    England\n",
    "        London\n",
    "    USA\n",
    "        Boston\n",
    "        Chicago (2)\n",
    "        New York"
   ]
  },
  {
   "cell_type": "code",
   "execution_count": 132,
   "metadata": {},
   "outputs": [
    {
     "name": "stdout",
     "output_type": "stream",
     "text": [
      "Tell me where you went: City, Country: New York, USA\n",
      "Tell me where you went: City, Country: London, England\n",
      "Tell me where you went: City, Country: Shanghai, China\n",
      "Tell me where you went: City, Country: Chicago, USA\n",
      "Tell me where you went: City, Country: Beijing, China\n",
      "Tell me where you went: City, Country: Chicago, USA\n",
      "Tell me where you went: City, Country: Beijing, China\n",
      "Tell me where you went: City, Country: lalala\n",
      "Please enter the information with City seperated by a comma and a Space from the Country e.g., London, England: Boston, USA\n",
      "Tell me where you went: City, Country: \n",
      "Nothing entered. Assume we are finished with the list\n",
      "China\n",
      "Beijing 1\n",
      "Beijing 1\n",
      "Shanghai 1\n",
      "England\n",
      "London 1\n",
      "USA\n",
      "Boston 1\n",
      "Chicago 1\n",
      "Chicago 1\n",
      "New York 1\n"
     ]
    }
   ],
   "source": [
    "dict ={}\n",
    "\n",
    "visited = input(\"Tell me where you went: City, Country: \")\n",
    "while visited:\n",
    "    if \", \" not in visited:\n",
    "        visited = input(\"Please enter the information with City seperated by a comma and a Space from the Country e.g., London, England: \")\n",
    "    \n",
    "    value = visited.split(', ')[0]\n",
    "    key = visited.split(', ')[-1]\n",
    "    ## check to see if the country is already, in the list\n",
    "    if key in dict:\n",
    "        dict[key].append(value)\n",
    "    else:\n",
    "        dict[key] = [value]\n",
    "    \n",
    "    visited = input(\"Tell me where you went: City, Country: \")\n",
    "    ## key = visited.split(', ')[0]\n",
    "    ## value = visited.split(', ')[-1]\n",
    "    ## dict[key] = value\n",
    "    \n",
    "\n",
    "print(\"Nothing entered. Assume we are finished with the list\")\n",
    "\n",
    "for key in sorted(dict):\n",
    "    print(key)\n",
    "    for value in sorted((dict[key])):\n",
    "        print(value, value.count(value))"
   ]
  },
  {
   "cell_type": "code",
   "execution_count": null,
   "metadata": {
    "collapsed": true
   },
   "outputs": [],
   "source": []
  }
 ],
 "metadata": {
  "kernelspec": {
   "display_name": "Python 3",
   "language": "python",
   "name": "python3"
  },
  "language_info": {
   "codemirror_mode": {
    "name": "ipython",
    "version": 3
   },
   "file_extension": ".py",
   "mimetype": "text/x-python",
   "name": "python",
   "nbconvert_exporter": "python",
   "pygments_lexer": "ipython3",
   "version": "3.6.1"
  }
 },
 "nbformat": 4,
 "nbformat_minor": 2
}
